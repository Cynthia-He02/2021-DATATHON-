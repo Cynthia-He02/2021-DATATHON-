{
 "cells": [
  {
   "cell_type": "markdown",
   "metadata": {},
   "source": [
    "## 各月份檔案合併,與拿出想要欄位"
   ]
  },
  {
   "cell_type": "code",
   "execution_count": null,
   "metadata": {},
   "outputs": [],
   "source": [
    "import matplotlib.pyplot as plt\n",
    "import matplotlib.dates as mdates\n",
    "import datetime\n",
    "import pandas as pd\n",
    "import numpy as np\n",
    "from glob import glob\n",
    "\n",
    "files = glob('./各月資料_時間，地區，難易度/*.csv')\n",
    "df = pd.concat((pd.read_csv(file,usecols=['時間','地區','難易度'],\\\n",
    "                            dtype={'時間':object,'地區':object,'難易度': object})\\\n",
    "                for file in files),ignore_index=True)"
   ]
  },
  {
   "cell_type": "markdown",
   "metadata": {},
   "source": [
    "## 轉換時間格式為datatime64"
   ]
  },
  {
   "cell_type": "code",
   "execution_count": null,
   "metadata": {},
   "outputs": [],
   "source": [
    "df['時間']=df['時間'].astype('datetime64').dt.strftime('%Y-%m-%d')"
   ]
  },
  {
   "cell_type": "markdown",
   "metadata": {},
   "source": [
    "## 依日加總各爬山總人次"
   ]
  },
  {
   "cell_type": "code",
   "execution_count": null,
   "metadata": {},
   "outputs": [],
   "source": [
    "# 爬山總人數趨勢\n",
    "totalNumber = df.groupby('時間').count()\n",
    "totalNumber"
   ]
  },
  {
   "cell_type": "markdown",
   "metadata": {},
   "source": [
    "## 將資料改成統一格式,方便合併"
   ]
  },
  {
   "cell_type": "code",
   "execution_count": null,
   "metadata": {
    "scrolled": true
   },
   "outputs": [],
   "source": [
    "total_number_df = totalNumber[['難易度','地區']].rename(columns={'難易度':'total'}).drop('地區',axis=1)\n",
    "\n",
    "total_number_df"
   ]
  },
  {
   "cell_type": "markdown",
   "metadata": {},
   "source": [
    "## 整年的登山人次，觀察登山趨勢"
   ]
  },
  {
   "cell_type": "code",
   "execution_count": null,
   "metadata": {
    "scrolled": false
   },
   "outputs": [],
   "source": [
    "x = totalNumber['地區']\n",
    "y = totalNumber.index\n",
    "\n",
    "plt.bar(totalNumber.index,height=totalNumber['地區'],width=1)\n",
    "plt.xlabel('Month')\n",
    "plt.ylabel('Quantity')\n",
    "plt.show()"
   ]
  },
  {
   "cell_type": "markdown",
   "metadata": {},
   "source": [
    "## 合併地區與難易度，篩選各特徵值組合"
   ]
  },
  {
   "cell_type": "code",
   "execution_count": null,
   "metadata": {
    "scrolled": true
   },
   "outputs": [],
   "source": [
    "# north_easy\n",
    "\n",
    "north_easy = df[(df['地區']=='north') & (df['難易度']=='easy')]\n",
    "north_easy['north_easy'] = 1\n",
    "north_easy = north_easy[['時間','north_easy']]\n",
    "north_easy = north_easy.groupby('時間').sum()\n",
    "north_easy"
   ]
  },
  {
   "cell_type": "code",
   "execution_count": null,
   "metadata": {
    "scrolled": true
   },
   "outputs": [],
   "source": [
    "#north_normal\n",
    "\n",
    "north_normal = df[(df['地區']=='north') & (df['難易度']=='normal')]\n",
    "north_normal['north_normal'] = 1\n",
    "north_normal = north_normal[['時間','north_normal']]\n",
    "north_normal = north_normal.groupby('時間').sum()\n",
    "north_normal"
   ]
  },
  {
   "cell_type": "code",
   "execution_count": null,
   "metadata": {
    "scrolled": true
   },
   "outputs": [],
   "source": [
    "#north_hard\n",
    "\n",
    "north_hard = df[(df['地區']=='north') & (df['難易度']=='hard')]\n",
    "north_hard['north_hard'] = 1\n",
    "north_hard = north_hard[['時間','north_hard']]\n",
    "north_hard = north_hard.groupby('時間').sum()\n",
    "north_hard"
   ]
  },
  {
   "cell_type": "code",
   "execution_count": null,
   "metadata": {},
   "outputs": [],
   "source": [
    "# south_easy\n",
    "\n",
    "south_easy = df[(df['地區']=='south') & (df['難易度']=='easy')]\n",
    "south_easy['south_easy'] = 1\n",
    "south_easy = south_easy[['時間','south_easy']]\n",
    "south_easy = south_easy.groupby('時間').sum()\n",
    "south_easy"
   ]
  },
  {
   "cell_type": "code",
   "execution_count": null,
   "metadata": {
    "scrolled": true
   },
   "outputs": [],
   "source": [
    "#south_normal\n",
    "\n",
    "south_normal = df[(df['地區']=='south') & (df['難易度']=='normal')]\n",
    "south_normal['south_normal'] = 1\n",
    "south_normal = south_normal[['時間','south_normal']]\n",
    "south_normal = south_normal.groupby('時間').sum()\n",
    "south_normal"
   ]
  },
  {
   "cell_type": "code",
   "execution_count": null,
   "metadata": {
    "scrolled": true
   },
   "outputs": [],
   "source": [
    "#south_hard\n",
    "\n",
    "south_hard = df[(df['地區']=='south') & (df['難易度']=='hard')]\n",
    "south_hard['south_hard'] = 1\n",
    "south_hard = south_hard[['時間','south_hard']]\n",
    "south_hard = south_hard.groupby('時間').sum()\n",
    "south_hard"
   ]
  },
  {
   "cell_type": "code",
   "execution_count": null,
   "metadata": {
    "scrolled": true
   },
   "outputs": [],
   "source": [
    "# central_easy\n",
    "\n",
    "central_easy = df[(df['地區']=='central') & (df['難易度']=='easy')]\n",
    "central_easy['central_easy'] = 1\n",
    "central_easy = central_easy[['時間','central_easy']]\n",
    "central_easy = central_easy.groupby('時間').sum()\n",
    "central_easy"
   ]
  },
  {
   "cell_type": "code",
   "execution_count": null,
   "metadata": {
    "scrolled": true
   },
   "outputs": [],
   "source": [
    "#central_normal\n",
    "\n",
    "central_normal = df[(df['地區']=='central') & (df['難易度']=='normal')]\n",
    "central_normal['central_normal'] = 1\n",
    "central_normal = central_normal[['時間','central_normal']]\n",
    "central_normal = central_normal.groupby('時間').sum()\n",
    "central_normal"
   ]
  },
  {
   "cell_type": "code",
   "execution_count": null,
   "metadata": {
    "scrolled": true
   },
   "outputs": [],
   "source": [
    "#central_hard\n",
    "\n",
    "central_hard = df[(df['地區']=='central') & (df['難易度']=='hard')]\n",
    "central_hard['central_hard'] = 1\n",
    "central_hard = central_hard[['時間','central_hard']]\n",
    "central_hard = central_hard.groupby('時間').sum()\n",
    "central_hard"
   ]
  },
  {
   "cell_type": "code",
   "execution_count": null,
   "metadata": {
    "scrolled": true
   },
   "outputs": [],
   "source": [
    "# east_easy\n",
    "\n",
    "east_easy = df[(df['地區']=='east') & (df['難易度']=='easy')]\n",
    "east_easy['east_easy'] = 1\n",
    "east_easy = east_easy[['時間','east_easy']]\n",
    "east_easy = east_easy.groupby('時間').sum()\n",
    "east_easy"
   ]
  },
  {
   "cell_type": "code",
   "execution_count": null,
   "metadata": {
    "scrolled": true
   },
   "outputs": [],
   "source": [
    "#east_normal\n",
    "\n",
    "east_normal = df[(df['地區']=='east') & (df['難易度']=='normal')]\n",
    "east_normal['east_normal'] = 1\n",
    "east_normal = east_normal[['時間','east_normal']]\n",
    "east_normal = east_normal.groupby('時間').sum()\n",
    "east_normal"
   ]
  },
  {
   "cell_type": "code",
   "execution_count": null,
   "metadata": {
    "scrolled": true
   },
   "outputs": [],
   "source": [
    "#east_hard\n",
    "\n",
    "east_hard = df[(df['地區']=='east') & (df['難易度']=='hard')]\n",
    "east_hard['east_hard'] = 1\n",
    "east_hard = east_hard[['時間','east_hard']]\n",
    "east_hard = east_hard.groupby('時間').sum()\n",
    "east_hard"
   ]
  },
  {
   "cell_type": "markdown",
   "metadata": {},
   "source": [
    "## 將銷售端與登山軌跡資料疊合"
   ]
  },
  {
   "cell_type": "code",
   "execution_count": null,
   "metadata": {
    "scrolled": true
   },
   "outputs": [],
   "source": [
    "new_df = pd.read_csv('corr_10.csv')\n",
    "new_df = new_df.rename(columns={'Unnamed: 0':'time'})\n",
    "new_df['time'] = new_df['time'].astype('datetime64[ns]').dt.strftime('%Y-%m-%d')\n",
    "new_df = new_df.set_index('time')\n",
    "print(new_df)"
   ]
  },
  {
   "cell_type": "markdown",
   "metadata": {},
   "source": [
    "## 疊合結果，儲存csv檔"
   ]
  },
  {
   "cell_type": "code",
   "execution_count": null,
   "metadata": {},
   "outputs": [],
   "source": [
    "# featureList = ['north','south','central','east','easy','medium','difficult']\n",
    "\n",
    "new_df =  pd.concat([new_df,north_easy],axis=1)\n",
    "new_df =  pd.concat([new_df,north_normal],axis=1)\n",
    "new_df =  pd.concat([new_df,north_hard],axis=1)\n",
    "new_df =  pd.concat([new_df,south_easy],axis=1)\n",
    "new_df =  pd.concat([new_df,south_normal],axis=1)\n",
    "new_df =  pd.concat([new_df,south_hard],axis=1)\n",
    "new_df =  pd.concat([new_df,central_easy],axis=1)\n",
    "new_df =  pd.concat([new_df,central_normal],axis=1)\n",
    "new_df =  pd.concat([new_df,central_hard],axis=1)\n",
    "new_df =  pd.concat([new_df,east_easy],axis=1)\n",
    "new_df =  pd.concat([new_df,east_normal],axis=1)\n",
    "new_df =  pd.concat([new_df,east_hard],axis=1)\n",
    "# new_df =  pd.concat([new_df,medium],axis=1)\n",
    "# new_df =  pd.concat([new_df,difficult],axis=1)\n",
    "# new_df =  pd.concat([new_df,easy],axis=1)\n",
    "new_df =  pd.concat([new_df,total_number_df],axis=1)\n",
    "new_df = new_df.fillna(0)\n",
    "new_df\n",
    "new_df.to_csv('corr_all_2.csv')"
   ]
  },
  {
   "cell_type": "code",
   "execution_count": null,
   "metadata": {},
   "outputs": [],
   "source": [
    "df=pd.read_csv('corr_all_2.csv')\n",
    "df"
   ]
  }
 ],
 "metadata": {
  "kernelspec": {
   "display_name": "Python 3",
   "language": "python",
   "name": "python3"
  },
  "language_info": {
   "codemirror_mode": {
    "name": "ipython",
    "version": 3
   },
   "file_extension": ".py",
   "mimetype": "text/x-python",
   "name": "python",
   "nbconvert_exporter": "python",
   "pygments_lexer": "ipython3",
   "version": "3.9.4"
  }
 },
 "nbformat": 4,
 "nbformat_minor": 4
}
