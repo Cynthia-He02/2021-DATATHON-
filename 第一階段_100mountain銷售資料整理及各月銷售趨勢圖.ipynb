{
 "cells": [
  {
   "cell_type": "code",
   "execution_count": null,
   "id": "6e212bfa",
   "metadata": {},
   "outputs": [],
   "source": [
    "import pandas as pd\n",
    "import numpy as np\n",
    "import os\n",
    "import matplotlib.pyplot as plt\n",
    "import matplotlib.dates as mdates\n",
    "from datetime import datetime\n",
    "import datetime\n",
    "\n",
    "\n",
    "# Comment this if the data visualisations doesn't work on your side\n",
    "%matplotlib inline\n",
    "\n",
    "plt.style.use('bmh')  # 'bmh'為使用的背景主題"
   ]
  },
  {
   "cell_type": "code",
   "execution_count": null,
   "id": "76417c73",
   "metadata": {},
   "outputs": [],
   "source": [
    "# 讀檔\n",
    "\n",
    "df = pd.read_csv('100mountain.csv')\n",
    "df"
   ]
  },
  {
   "cell_type": "code",
   "execution_count": null,
   "id": "684ebe29",
   "metadata": {},
   "outputs": [],
   "source": [
    "df.info()"
   ]
  },
  {
   "cell_type": "code",
   "execution_count": null,
   "id": "022e6c03",
   "metadata": {},
   "outputs": [],
   "source": [
    "# 格式轉換\n",
    "\n",
    "df['transactionDate_NEW'] = df['transactionDate_NEW'].astype('datetime64')\n",
    "df['number'] = df['number'].astype('int64')\n",
    "df['subtotal'] = df['subtotal'].astype('int64')\n",
    "\n",
    "df"
   ]
  },
  {
   "cell_type": "code",
   "execution_count": null,
   "id": "92d20a66",
   "metadata": {},
   "outputs": [],
   "source": [
    "# 資料清洗 去除不需要的值\n",
    "\n",
    "df = df[~(df['brand'] == '999')]\n",
    "df = df[~(df['brandName'] == '其他品牌')]\n",
    "df = df[~(df['brandName'] == '出清品')]\n",
    "\n",
    "df"
   ]
  },
  {
   "cell_type": "code",
   "execution_count": null,
   "id": "c8c6cdff",
   "metadata": {},
   "outputs": [],
   "source": [
    "# 統計 各品牌銷售量  #\n",
    "\n",
    "brandgroup = df.groupby(by='brandName').sum('subtotal').nlargest(15, 'subtotal')\n",
    "brandgroup"
   ]
  },
  {
   "cell_type": "code",
   "execution_count": null,
   "id": "6776ee6f",
   "metadata": {},
   "outputs": [],
   "source": [
    "# 前15名單\n",
    "\n",
    "top15List = list(brandgroup.index[0:15])\n",
    "print(top15List)"
   ]
  },
  {
   "cell_type": "code",
   "execution_count": null,
   "id": "e58ea794",
   "metadata": {},
   "outputs": [],
   "source": [
    "# 製作top15 dataframe\n",
    "\n",
    "top15 = df[['transactionDate_NEW','brandName','subtotal']]   #觀察資料後發現，之後只需要這些欄位，在彙總top15前就可以先篩選好\n",
    "top15 = top15[top15['brandName'].isin(top15List)]       #製作出只有top15資料的 dataframe\n",
    "top15 "
   ]
  },
  {
   "cell_type": "code",
   "execution_count": null,
   "id": "4a57894c",
   "metadata": {},
   "outputs": [],
   "source": [
    "import seaborn as sns\n",
    "import pandas as pd\n",
    "\n",
    "%matplotlib inline\n",
    "pd.set_option(\"display.max_rows\", 1000)    #設定最大能顯示1000rows\n",
    "pd.set_option(\"display.max_columns\", 1000) #設定最大能顯示1000columns\n",
    "\n",
    "from pylab import mpl\n",
    "mpl.rcParams['font.sans-serif'] = ['Microsoft YaHei']  \n",
    "mpl.rcParams['axes.unicode_minus'] = False"
   ]
  },
  {
   "cell_type": "code",
   "execution_count": null,
   "id": "603983a7",
   "metadata": {},
   "outputs": [],
   "source": [
    "top15['month'] = top15 ['transactionDate_NEW'].dt.month \n",
    "top15.head(100)"
   ]
  },
  {
   "cell_type": "markdown",
   "id": "ed41a03d",
   "metadata": {},
   "source": [
    "# 各品牌、各月份銷售數量趨勢圖"
   ]
  },
  {
   "cell_type": "code",
   "execution_count": null,
   "id": "185e72e7",
   "metadata": {},
   "outputs": [],
   "source": [
    "for i in range(len(top15List)):\n",
    "    top15branddata = top15[top15['brandName'] == top15List[i]].groupby('month').sum('subtotal') \n",
    "\n",
    "    print(top15branddata)\n",
    "    \n",
    "    top15branddata.plot(kind='bar', y= {'subtotal':top15List[i]},title= '{}銷售數量圖'.format(top15List[i]))"
   ]
  }
 ],
 "metadata": {
  "kernelspec": {
   "display_name": "Python 3",
   "language": "python",
   "name": "python3"
  },
  "language_info": {
   "codemirror_mode": {
    "name": "ipython",
    "version": 3
   },
   "file_extension": ".py",
   "mimetype": "text/x-python",
   "name": "python",
   "nbconvert_exporter": "python",
   "pygments_lexer": "ipython3",
   "version": "3.9.4"
  }
 },
 "nbformat": 4,
 "nbformat_minor": 5
}
