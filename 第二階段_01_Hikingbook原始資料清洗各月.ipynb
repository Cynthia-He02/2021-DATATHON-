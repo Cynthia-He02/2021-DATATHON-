{
 "cells": [
  {
   "cell_type": "code",
   "execution_count": null,
   "id": "5134db63",
   "metadata": {},
   "outputs": [],
   "source": [
    "Hikingbook_4月資料"
   ]
  },
  {
   "cell_type": "code",
   "execution_count": null,
   "id": "b499ec91",
   "metadata": {},
   "outputs": [],
   "source": [
    "import pandas as pd\n",
    "import numpy as np\n",
    "from glob import glob\n",
    "df = pd.read_csv('./2021 Hikingbook 數據駭客松/2020-04.csv')\n",
    "df"
   ]
  },
  {
   "cell_type": "markdown",
   "id": "c0a6c72f",
   "metadata": {},
   "source": [
    "## 篩選所需欄位"
   ]
  },
  {
   "cell_type": "code",
   "execution_count": null,
   "id": "f0cc93c0",
   "metadata": {},
   "outputs": [],
   "source": [
    "df = df[['經度', '緯度', '海拔高度', '時間']]\n",
    "df"
   ]
  },
  {
   "cell_type": "code",
   "execution_count": null,
   "id": "75dafb87",
   "metadata": {
    "scrolled": true
   },
   "outputs": [],
   "source": [
    "df.info()"
   ]
  },
  {
   "cell_type": "markdown",
   "id": "bf312358",
   "metadata": {},
   "source": [
    "## 將時間格式調整成年月日"
   ]
  },
  {
   "cell_type": "code",
   "execution_count": null,
   "id": "dc4b046e",
   "metadata": {},
   "outputs": [],
   "source": [
    "df['時間']=df['時間'].astype('string')\n",
    "df['時間'] = df['時間'].str.split(' ')\n",
    "df['時間'] = df['時間'].apply(lambda x: x[0])\n",
    "df['時間'] = df['時間'].str.split('/')\n",
    "df['時間'] = df['時間'].apply(lambda x: x[2]+'/'+x[1]+'/'+x[0])\n",
    "df"
   ]
  },
  {
   "cell_type": "code",
   "execution_count": null,
   "id": "80eed343",
   "metadata": {},
   "outputs": [],
   "source": [
    "df['時間']=df['時間'].astype('datetime64')\n",
    "df"
   ]
  },
  {
   "cell_type": "code",
   "execution_count": null,
   "id": "0cdcf4a7",
   "metadata": {},
   "outputs": [],
   "source": [
    "df.info()"
   ]
  },
  {
   "cell_type": "markdown",
   "id": "a4e0343d",
   "metadata": {},
   "source": [
    "## 為了刪除重複值，刪除條件同一天經緯度到小數第三位相同者視為重複登山軌跡"
   ]
  },
  {
   "cell_type": "code",
   "execution_count": null,
   "id": "6d55c312",
   "metadata": {
    "scrolled": true
   },
   "outputs": [],
   "source": [
    "df['新經度'] = ''\n",
    "df['新緯度'] = ''\n",
    "df['新時間'] = ''\n",
    "df"
   ]
  },
  {
   "cell_type": "code",
   "execution_count": null,
   "id": "1f68949d",
   "metadata": {},
   "outputs": [],
   "source": [
    "df['新時間']=df['時間']#.dt.strftime('%Y-%m-%d')\n",
    "df['新經度']=df['經度'].round(4)\n",
    "df['新緯度']=df['緯度'].round(4)\n",
    "df"
   ]
  },
  {
   "cell_type": "markdown",
   "id": "4af03008",
   "metadata": {},
   "source": [
    "## 檢查重複值"
   ]
  },
  {
   "cell_type": "code",
   "execution_count": null,
   "id": "41803810",
   "metadata": {},
   "outputs": [],
   "source": [
    "bool_=df.duplicated(['新時間','新經度','新緯度'])\n",
    "bool_"
   ]
  },
  {
   "cell_type": "code",
   "execution_count": null,
   "id": "54c1a551",
   "metadata": {
    "scrolled": true
   },
   "outputs": [],
   "source": [
    "df=df[~bool_]\n",
    "df"
   ]
  },
  {
   "cell_type": "markdown",
   "id": "d933c097",
   "metadata": {},
   "source": [
    "## 設立特徵值欄位"
   ]
  },
  {
   "cell_type": "code",
   "execution_count": null,
   "id": "b100fa13",
   "metadata": {
    "scrolled": true
   },
   "outputs": [],
   "source": [
    "df['地區'] = ''\n",
    "df['難易度'] = ''\n",
    "df"
   ]
  },
  {
   "cell_type": "code",
   "execution_count": null,
   "id": "5ecf2125",
   "metadata": {},
   "outputs": [],
   "source": [
    "# 依經緯度分類\n",
    "for i in range(len(df.index)):\n",
    "    df.iloc[i,0:1] = df.iloc[i,0:1].astype('float')\n",
    "    df.iloc[i,1:2] = df.iloc[i,1:2].astype('float')\n",
    "    if ((df.iloc[i,0:1] > 120.928106).bool() & (df.iloc[i,0:1] < 121.974009).bool()) & ((df.iloc[i,1:2] > 24.337212).bool() & (df.iloc[i,1:2] < 25.287215).bool()):\n",
    "        df.iloc[i,7] = 'north'\n",
    "    elif ((df.iloc[i,0:1] > 120.178714).bool() & (df.iloc[i,0:1] < 121.232306).bool()) & ((df.iloc[i,1:2] > 23.586379).bool() & (df.iloc[i,1:2] < 24.323078).bool()):\n",
    "        df.iloc[i,7] = 'central'\n",
    "    elif ((df.iloc[i,0:1] > 120.107906).bool() & (df.iloc[i,0:1] < 120.877717).bool()) & ((df.iloc[i,1:2] > 21.961942).bool() & (df.iloc[i,1:2] < 23.567702).bool()):\n",
    "        df.iloc[i,7] = 'south'\n",
    "    \n",
    "    else:\n",
    "        df.iloc[i,7] = 'east'"
   ]
  },
  {
   "cell_type": "code",
   "execution_count": null,
   "id": "8eaa857c",
   "metadata": {},
   "outputs": [],
   "source": [
    "# 難易度分類\n",
    "\n",
    "df['難易度'] = df['海拔高度'].apply(lambda x: 'easy' if x <1500 \\\n",
    "                              else 'normal' if x<3000 and x>=1500 \\\n",
    "                              else 'hard')\n",
    "df"
   ]
  },
  {
   "cell_type": "markdown",
   "id": "730ec50f",
   "metadata": {},
   "source": [
    "## 儲存成csv檔"
   ]
  },
  {
   "cell_type": "code",
   "execution_count": null,
   "id": "c2ab1fc7",
   "metadata": {},
   "outputs": [],
   "source": [
    "df.to_csv('Hikingbook_4月資料.csv')"
   ]
  },
  {
   "cell_type": "code",
   "execution_count": null,
   "id": "e5181657",
   "metadata": {},
   "outputs": [],
   "source": []
  }
 ],
 "metadata": {
  "kernelspec": {
   "display_name": "Python 3",
   "language": "python",
   "name": "python3"
  },
  "language_info": {
   "codemirror_mode": {
    "name": "ipython",
    "version": 3
   },
   "file_extension": ".py",
   "mimetype": "text/x-python",
   "name": "python",
   "nbconvert_exporter": "python",
   "pygments_lexer": "ipython3",
   "version": "3.9.4"
  }
 },
 "nbformat": 4,
 "nbformat_minor": 5
}
